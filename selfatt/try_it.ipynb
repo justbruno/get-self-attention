{
 "cells": [
  {
   "cell_type": "code",
   "execution_count": null,
   "id": "ade90e1a-203b-47dc-860d-e79f1379d7d9",
   "metadata": {},
   "outputs": [],
   "source": [
    "import numpy as np"
   ]
  },
  {
   "cell_type": "code",
   "execution_count": null,
   "id": "83c9220e",
   "metadata": {},
   "outputs": [],
   "source": [
    "import torch\n",
    "import torch.nn as nn"
   ]
  },
  {
   "cell_type": "code",
   "execution_count": null,
   "id": "dcf3e3fb",
   "metadata": {},
   "outputs": [],
   "source": [
    "from selfatt.plot import TransformerPlotter\n",
    "from selfatt.training import TrainingAssistant\n",
    "from selfatt.nanogpt import GPTLanguageModel\n",
    "from selfatt import device"
   ]
  },
  {
   "cell_type": "code",
   "execution_count": null,
   "id": "8533f524-5a3c-45c8-b4d5-a210137d521d",
   "metadata": {},
   "outputs": [],
   "source": [
    "from IPython.display import display, clear_output\n",
    "import matplotlib.pyplot as plt"
   ]
  },
  {
   "cell_type": "code",
   "execution_count": null,
   "id": "ed1213ef-f76e-48fd-9fdc-b76d4555822e",
   "metadata": {},
   "outputs": [],
   "source": [
    "def to_numpy(tensor):\n",
    "    return tensor.cpu().detach().numpy()"
   ]
  },
  {
   "cell_type": "markdown",
   "id": "6fc5b0ec-f81f-412c-a1b6-76fc434229a1",
   "metadata": {},
   "source": [
    "# Data generation"
   ]
  },
  {
   "cell_type": "code",
   "execution_count": null,
   "id": "9c904b72-d68c-483d-aeb9-ec1f1397e38c",
   "metadata": {},
   "outputs": [],
   "source": [
    "def generate_deterministic_sequence(length=1, n=1, whitespace=False):\n",
    "    base_str = ''.join([chr(ord('a') + i) for i in range(length)]) + (' ' if whitespace else '')\n",
    "    return base_str * n"
   ]
  },
  {
   "cell_type": "code",
   "execution_count": null,
   "id": "6ace7c32-03a8-424b-ad9f-d4610e02c628",
   "metadata": {},
   "outputs": [],
   "source": [
    "def pick_random_words(words=1, source_vocab=None):\n",
    "    if source_vocab is None:\n",
    "        with open('../vocab.txt', 'r') as f:\n",
    "            source_vocab = f.read().split('\\n')\n",
    "    return np.random.choice(source_vocab, words)"
   ]
  },
  {
   "cell_type": "code",
   "execution_count": null,
   "id": "30a1f452-e05d-4167-919d-4c76de49e293",
   "metadata": {},
   "outputs": [],
   "source": [
    "def pick_random_vocab(n=1, words=1, source_vocab=None):\n",
    "    universe = pick_random_words(words=words, source_vocab=source_vocab)\n",
    "    return ' '.join(np.random.choice(universe, n))"
   ]
  },
  {
   "cell_type": "code",
   "execution_count": null,
   "id": "5b4d36d8-51a6-407b-803a-960e020e4e2d",
   "metadata": {},
   "outputs": [],
   "source": [
    "# Generate a text consisting of the same sequence, over and over\n",
    "text = generate_deterministic_sequence(length=3, n=100, whitespace=True)"
   ]
  },
  {
   "cell_type": "code",
   "execution_count": null,
   "id": "8026c90a-e1c5-4cfd-8107-fdd02d4808d4",
   "metadata": {},
   "outputs": [],
   "source": [
    "# Generate a text comprised of a number of words repeated at random\n",
    "# text = pick_random_vocab(n=1000, words=3)"
   ]
  },
  {
   "cell_type": "code",
   "execution_count": null,
   "id": "fb933917-8cbd-4530-b04e-5861e0e3bb72",
   "metadata": {},
   "outputs": [],
   "source": [
    "text[:100]"
   ]
  },
  {
   "cell_type": "code",
   "execution_count": null,
   "id": "491f06d2",
   "metadata": {},
   "outputs": [],
   "source": [
    "chars = sorted(list(set(text)))\n",
    "vocab_size = len(chars)\n",
    "# create a mapping from characters to integers\n",
    "stoi = { ch:i for i,ch in enumerate(chars) }\n",
    "itos = { i:ch for i,ch in enumerate(chars) }\n",
    "encode = lambda s: [stoi[c] for c in s] # encoder: take a string, output a list of integers\n",
    "decode = lambda l: ''.join([itos[i] for i in l]) # decoder: take a list of integers, output a string\n",
    "\n",
    "# Train and test splits\n",
    "data = torch.tensor(encode(text), dtype=torch.long)\n",
    "n = int(0.5*len(data))\n",
    "train_data = data[:n]\n",
    "val_data = data[n:]\n"
   ]
  },
  {
   "cell_type": "code",
   "execution_count": null,
   "id": "df8cc42e",
   "metadata": {},
   "outputs": [],
   "source": [
    "# hyperparameters\n",
    "batch_size = 1 # how many independent sequences will we process in parallel?\n",
    "block_size = 2 # what is the maximum context length for predictions?\n",
    "\n",
    "learning_rate = 3e-4\n",
    "eval_iters = 4\n",
    "n_embd = 2\n",
    "n_head = 1\n",
    "head_size = 2\n",
    "n_layer = 1\n",
    "dropout = 0.2\n",
    "\n",
    "downstream_kwargs = {\n",
    "    'with_query': True, # enable the Query part of the self-attention mechanism\n",
    "    'with_key': True, # enable the Key part of the self-attention mechanism\n",
    "    'with_value': True, # enable the Value part of the self-attention mechanism\n",
    "    'with_layer_norm': False, # enable the final Layer normalisation step of the network\n",
    "    'block_with_layer_norm': False, # enable the Layer normalisation steps of each Transformer block\n",
    "    'block_size': block_size,\n",
    "    'head_size': head_size,\n",
    "    'ffwd': False # enable the fully-connected layer at the end of each Transformer block\n",
    "}\n",
    "\n",
    "if not downstream_kwargs['with_query']\\\n",
    "    or not downstream_kwargs['with_key']\\\n",
    "    or not downstream_kwargs['with_value']:\n",
    "    assert n_embd == head_size, 'The embedding dimension and the head size must be equal when head matrices are disabled.'\n",
    "\n",
    "torch.manual_seed(1337)\n",
    "model = GPTLanguageModel(n_layer=n_layer, n_embd=n_embd, n_head=n_head, vocab_size=vocab_size, ds_kwargs=downstream_kwargs)\n",
    "m = model.to(device)\n",
    "# print the numberof parameters in the model\n",
    "print(sum(p.numel() for p in m.parameters()), 'parameters')\n",
    "print(sum(p.numel() for p in m.parameters())/1e6, 'M parameters')"
   ]
  },
  {
   "cell_type": "markdown",
   "id": "395a89f9-a493-4467-b974-64d019f7913e",
   "metadata": {},
   "source": [
    "### Visualise the Transformer for some input"
   ]
  },
  {
   "cell_type": "code",
   "execution_count": null,
   "id": "d4b5612c-dcf0-4ce0-9caf-3fa1d6ca05a1",
   "metadata": {},
   "outputs": [],
   "source": [
    "input_text = 'ab'\n",
    "plotter = TransformerPlotter(decode)\n",
    "plotter.plot_for_input(model, torch.tensor([encode(input_text)]).to(device), n_embd)\n",
    "clear_output(wait=True)"
   ]
  },
  {
   "cell_type": "code",
   "execution_count": null,
   "id": "891b5901-a351-494d-836c-ba2c1247f11b",
   "metadata": {},
   "outputs": [],
   "source": [
    "optimizer = torch.optim.AdamW(model.parameters(), lr=1e-3)\n",
    "max_iters = 100 # Hoy many iterations we train for (i.e. how many batches).\n",
    "eval_interval = 10 # Hoy many iterations before we evaluate loss again.\n",
    "plotter = TransformerPlotter(decode)\n",
    "assistant = TrainingAssistant(batch_size=batch_size, block_size=block_size, eval_iterations=10)\n",
    "for iter in range(max_iters):\n",
    "    xb, yb = assistant.get_batch(train_data)\n",
    "    logits, loss = model(xb, yb)\n",
    "    optimizer.zero_grad(set_to_none=True)\n",
    "    loss.backward()\n",
    "    optimizer.step()\n",
    "    \n",
    "    if iter % eval_interval == 0 or iter == max_iters-1:\n",
    "        clear_output(wait=True)        \n",
    "        loss_train, loss_val = assistant.estimate_loss(model, train_data), assistant.estimate_loss(model, val_data) \n",
    "        loss_str = f\"step {iter}: train loss {loss_train:.4f}, val loss {loss_val:.4f}\"\n",
    "        fig, ax = plotter.plot_for_input(model, xb, n_embd, loss_str)\n",
    "        display(fig)\n",
    "        # plt.savefig(f'../plots/fig{iter}.png', bbox_inches='tight')\n",
    "clear_output(wait=True)"
   ]
  },
  {
   "cell_type": "code",
   "execution_count": null,
   "id": "4b8566fb-6bd5-49cb-90bd-72a6ef0fd87e",
   "metadata": {},
   "outputs": [],
   "source": [
    "encode('c')"
   ]
  },
  {
   "cell_type": "code",
   "execution_count": null,
   "id": "51c5057d-2879-4deb-a5e0-58b45f4f8027",
   "metadata": {},
   "outputs": [],
   "source": [
    "# generate from the model\n",
    "context = torch.zeros((1, 1), dtype=torch.long, device=device)\n",
    "print(decode(m.generate(context, max_new_tokens=100)[0].tolist()))"
   ]
  }
 ],
 "metadata": {
  "kernelspec": {
   "display_name": "Python 3 (ipykernel)",
   "language": "python",
   "name": "python3"
  },
  "language_info": {
   "codemirror_mode": {
    "name": "ipython",
    "version": 3
   },
   "file_extension": ".py",
   "mimetype": "text/x-python",
   "name": "python",
   "nbconvert_exporter": "python",
   "pygments_lexer": "ipython3",
   "version": "3.13.9"
  }
 },
 "nbformat": 4,
 "nbformat_minor": 5
}
